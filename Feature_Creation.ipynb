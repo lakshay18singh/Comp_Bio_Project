{
  "nbformat": 4,
  "nbformat_minor": 0,
  "metadata": {
    "colab": {
      "provenance": [],
      "gpuType": "T4"
    },
    "kernelspec": {
      "name": "python3",
      "display_name": "Python 3"
    },
    "language_info": {
      "name": "python"
    },
    "accelerator": "GPU"
  },
  "cells": [
    {
      "cell_type": "code",
      "source": [
        "import os\n",
        "import sys\n",
        "from pathlib import Path\n",
        "import joblib\n",
        "import pandas as pd\n",
        "\n",
        "path_root = Path('/content/codebase/prepoc').parents[1]\n",
        "sys.path.insert(0, str(path_root))\n",
        "from utils import feat_engg_manual_main\n",
        "\n",
        "\n",
        "def parse_human_to_fasta(root_path='./'):\n",
        "    f = open(os.path.join(root_path, 'dataset', 'allSeqs.fasta'))\n",
        "    prot_lst, seq_lst = [], []\n",
        "    idx = 0\n",
        "    for line in f:\n",
        "        if idx == 0:\n",
        "            prot_lst.append(line.strip().strip('>'))\n",
        "        elif idx == 1:\n",
        "            seq_lst.append(line.strip())\n",
        "        idx += 1\n",
        "        idx = idx % 2\n",
        "    f.close()\n",
        "\n",
        "    human_seq_df = pd.DataFrame(data = {'prot_id': prot_lst, 'seq': seq_lst})\n",
        "    human_seq_df.to_csv(os.path.join(root_path, 'dataset/preproc_data', 'human_seq.csv'), index=False)\n",
        "    return human_seq_df\n",
        "\n",
        "\n",
        "def prepare_manual_feat_for_human_seq(root_path='./'):\n",
        "    human_seq_df = pd.read_csv(os.path.join(root_path,'dataset/preproc_data', 'human_seq.csv'))\n",
        "    feature_type_lst =  ['AC30', 'PSAAC15', 'ConjointTriad', 'LD10_CTD']\n",
        "    human_seq_manual_feat_dict = {}\n",
        "\n",
        "    for index, row in human_seq_df.iterrows():\n",
        "        prot_id, prot_seq = row['prot_id'], row['seq']\n",
        "        seq_manual_feat_dict = feat_engg_manual_main.extract_prot_seq_1D_manual_feat(root_path,\n",
        "                                        prot_seq=prot_seq, feature_type_lst=feature_type_lst)\n",
        "\n",
        "        human_seq_manual_feat_dict[prot_id] = {'seq': prot_seq, 'seq_manual_feat_dict': seq_manual_feat_dict}\n",
        "\n",
        "    filename = os.path.join(root_path, 'dataset/preproc_data', 'human_seq_manual_feat_dict.pkl')\n",
        "    joblib.dump(value=human_seq_manual_feat_dict, filename=filename, compress=3)\n",
        "\n",
        "parse_human_to_fasta(path_root)\n",
        "prepare_manual_feat_for_human_seq(path_root)"
      ],
      "metadata": {
        "colab": {
          "base_uri": "https://localhost:8080/",
          "height": 385
        },
        "id": "60TiIkUAhSQI",
        "outputId": "36b02bfd-2bb2-4e56-d439-3875846de927"
      },
      "execution_count": null,
      "outputs": [
        {
          "output_type": "error",
          "ename": "ModuleNotFoundError",
          "evalue": "No module named 'utils'",
          "traceback": [
            "\u001b[0;31m---------------------------------------------------------------------------\u001b[0m",
            "\u001b[0;31mModuleNotFoundError\u001b[0m                       Traceback (most recent call last)",
            "\u001b[0;32m<ipython-input-1-2c41e64420c3>\u001b[0m in \u001b[0;36m<cell line: 9>\u001b[0;34m()\u001b[0m\n\u001b[1;32m      7\u001b[0m \u001b[0mpath_root\u001b[0m \u001b[0;34m=\u001b[0m \u001b[0mPath\u001b[0m\u001b[0;34m(\u001b[0m\u001b[0;34m'/content/codebase/prepoc'\u001b[0m\u001b[0;34m)\u001b[0m\u001b[0;34m.\u001b[0m\u001b[0mparents\u001b[0m\u001b[0;34m[\u001b[0m\u001b[0;36m1\u001b[0m\u001b[0;34m]\u001b[0m\u001b[0;34m\u001b[0m\u001b[0;34m\u001b[0m\u001b[0m\n\u001b[1;32m      8\u001b[0m \u001b[0msys\u001b[0m\u001b[0;34m.\u001b[0m\u001b[0mpath\u001b[0m\u001b[0;34m.\u001b[0m\u001b[0minsert\u001b[0m\u001b[0;34m(\u001b[0m\u001b[0;36m0\u001b[0m\u001b[0;34m,\u001b[0m \u001b[0mstr\u001b[0m\u001b[0;34m(\u001b[0m\u001b[0mpath_root\u001b[0m\u001b[0;34m)\u001b[0m\u001b[0;34m)\u001b[0m\u001b[0;34m\u001b[0m\u001b[0;34m\u001b[0m\u001b[0m\n\u001b[0;32m----> 9\u001b[0;31m \u001b[0;32mfrom\u001b[0m \u001b[0mutils\u001b[0m \u001b[0;32mimport\u001b[0m \u001b[0mfeat_engg_manual_main\u001b[0m\u001b[0;34m\u001b[0m\u001b[0;34m\u001b[0m\u001b[0m\n\u001b[0m\u001b[1;32m     10\u001b[0m \u001b[0;34m\u001b[0m\u001b[0m\n\u001b[1;32m     11\u001b[0m \u001b[0;34m\u001b[0m\u001b[0m\n",
            "\u001b[0;31mModuleNotFoundError\u001b[0m: No module named 'utils'",
            "",
            "\u001b[0;31m---------------------------------------------------------------------------\u001b[0;32m\nNOTE: If your import is failing due to a missing package, you can\nmanually install dependencies using either !pip or !apt.\n\nTo view examples of installing some common dependencies, click the\n\"Open Examples\" button below.\n\u001b[0;31m---------------------------------------------------------------------------\u001b[0m\n"
          ],
          "errorDetails": {
            "actions": [
              {
                "action": "open_url",
                "actionText": "Open Examples",
                "url": "/notebooks/snippets/importing_libraries.ipynb"
              }
            ]
          }
        }
      ]
    },
    {
      "cell_type": "code",
      "source": [],
      "metadata": {
        "id": "jqlpgAT4GIQs"
      },
      "execution_count": null,
      "outputs": []
    }
  ]
}