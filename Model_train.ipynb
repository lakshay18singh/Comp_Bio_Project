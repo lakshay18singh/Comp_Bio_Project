{
  "cells": [
    {
      "cell_type": "code",
      "execution_count": 48,
      "metadata": {
        "id": "AROxf8CmgOIf"
      },
      "outputs": [],
      "source": [
        "import pandas as pd\n",
        "import numpy as np\n",
        "import pickle\n",
        "import joblib\n",
        "import torch\n",
        "import matplotlib.pyplot as plt\n",
        "from sklearn.metrics import roc_auc_score, precision_score, recall_score"
      ]
    },
    {
      "cell_type": "code",
      "execution_count": 4,
      "metadata": {
        "id": "OKE54dKAg3m7"
      },
      "outputs": [],
      "source": [
        "#df = pd.read_csv('human_seq.csv')\n",
        "with open('human_seq_manual_feat_dict.pkl', 'rb') as f:\n",
        "  data = joblib.load(f)\n"
      ]
    },
    {
      "cell_type": "code",
      "execution_count": 5,
      "metadata": {
        "colab": {
          "base_uri": "https://localhost:8080/"
        },
        "id": "F58zgOUIg7po",
        "outputId": "07d9ec65-eb62-43e5-92ad-6ab84a8e13a4"
      },
      "outputs": [
        {
          "output_type": "stream",
          "name": "stdout",
          "text": [
            "Num of Features:  1218\n"
          ]
        }
      ],
      "source": [
        "n = 0\n",
        "for k in data[10785]['seq_manual_feat_dict'].keys():\n",
        "  n  += len(data[10785]['seq_manual_feat_dict'][k])\n",
        "\n",
        "print('Num of Features: ', n)"
      ]
    },
    {
      "cell_type": "code",
      "source": [
        "class NeuralNet(torch.nn.Module):\n",
        "\n",
        "  def __init__(self):\n",
        "    super().__init__()\n",
        "    self.dropout = torch.nn.Dropout(p=0.2)\n",
        "    self.relu = torch.nn.ReLU()\n",
        "\n",
        "    self.l1 = torch.nn.Linear(2436, 1024)\n",
        "    self.bn1 = torch.nn.BatchNorm1d(1024)\n",
        "\n",
        "    self.l2 = torch.nn.Linear(1024, 512)\n",
        "    self.bn2 = torch.nn.BatchNorm1d(512)\n",
        "\n",
        "    self.l3 = torch.nn.Linear(512, 512)\n",
        "    self.bn3 = torch.nn.BatchNorm1d(512)\n",
        "\n",
        "    self.l4 = torch.nn.Linear(512, 64)\n",
        "    self.bn4 = torch.nn.BatchNorm1d(64)\n",
        "\n",
        "    self.output = torch.nn.Linear(64, 1)\n",
        "    self.sig = torch.nn.Sigmoid()\n",
        "  def forward(self, x):\n",
        "\n",
        "    h = self.l1(x)\n",
        "    h = self.bn1(h)\n",
        "    h = self.relu(h)\n",
        "    h = self.dropout(h)\n",
        "\n",
        "    h = self.l2(h)\n",
        "    h = self.bn2(h)\n",
        "    h = self.relu(h)\n",
        "    h = self.dropout(h)\n",
        "\n",
        "    h = self.l3(h)\n",
        "    h = self.bn3(h)\n",
        "    h = self.relu(h)\n",
        "    h = self.dropout(h)\n",
        "\n",
        "    h = self.l4(h)\n",
        "    h = self.bn4(h)\n",
        "    h = self.relu(h)\n",
        "    h = self.dropout(h)\n",
        "\n",
        "    y_pred = self.sig(self.output(h))\n",
        "\n",
        "    return y_pred"
      ],
      "metadata": {
        "id": "jcECvSabBx5h"
      },
      "execution_count": 6,
      "outputs": []
    },
    {
      "cell_type": "code",
      "source": [
        "def ret1dFeat(p1, p2):\n",
        "  p1feat = []\n",
        "  p2feat = []\n",
        "  for k in data[p1]['seq_manual_feat_dict'].keys():\n",
        "    p1feat += data[p1]['seq_manual_feat_dict'][k]\n",
        "    p2feat += data[p2]['seq_manual_feat_dict'][k]\n",
        "\n",
        "  return np.array(p1feat + p2feat)"
      ],
      "metadata": {
        "id": "DwQ44dK9GyUt"
      },
      "execution_count": 7,
      "outputs": []
    },
    {
      "cell_type": "code",
      "source": [
        "class CustDataset(torch.utils.data.Dataset):\n",
        "\n",
        "  def __init__(self, trainset, targetset):\n",
        "\n",
        "    self.X = trainset\n",
        "    self.y = targetset\n",
        "\n",
        "  def __len__(self):\n",
        "    return len(self.X)\n",
        "\n",
        "  def __getitem__(self, idx):\n",
        "    return [torch.tensor(self.X[idx]), torch.tensor(self.y[idx])]"
      ],
      "metadata": {
        "id": "8zhH_3D0u0Mn"
      },
      "execution_count": 8,
      "outputs": []
    },
    {
      "cell_type": "markdown",
      "source": [
        "Random 50"
      ],
      "metadata": {
        "id": "Pw-33Ekr3XNg"
      }
    },
    {
      "cell_type": "code",
      "source": [
        "Trainset = []\n",
        "Targetset = []\n",
        "\n",
        "df = pd.read_csv(f'Random50_Train_0.tsv', sep='\\t', header=None)\n",
        "for i, r in df.iterrows():\n",
        "\n",
        "\n",
        "  p1 = r[0]\n",
        "  p2 = r[1]\n",
        "  if p1 == 7273 or p2 == 7273:\n",
        "    continue\n",
        "  target = r[2]\n",
        "  feat = ret1dFeat(p1, p2)\n",
        "  Trainset.append(feat)\n",
        "  Targetset.append(target)\n"
      ],
      "metadata": {
        "id": "0uK6XWxB_c0d"
      },
      "execution_count": 9,
      "outputs": []
    },
    {
      "cell_type": "code",
      "source": [
        "dataset_train = CustDataset(Trainset, Targetset)\n",
        "\n",
        "TrainLoader = torch.utils.data.DataLoader(dataset_train, batch_size = 1024)"
      ],
      "metadata": {
        "id": "Y8uKC0scvwBq"
      },
      "execution_count": 10,
      "outputs": []
    },
    {
      "cell_type": "code",
      "source": [
        "if torch.cuda.is_available():\n",
        "    device  =  torch.device('cuda')\n",
        "else:\n",
        "    device = torch.device('cpu')"
      ],
      "metadata": {
        "id": "AyNND-Ooxz-p"
      },
      "execution_count": 11,
      "outputs": []
    },
    {
      "cell_type": "code",
      "source": [
        "lr = 1e-3\n",
        "n_epochs = 30\n",
        "model = NeuralNet().to(device)\n",
        "criterion = torch.nn.BCELoss()\n",
        "TrainLoss = []\n",
        "optimizer = torch.optim.Adam(model.parameters(), lr = lr)\n",
        "\n",
        "for epoch in range(n_epochs):\n",
        "  cur = 0\n",
        "  for inp, target in TrainLoader:\n",
        "    b, l = inp.shape\n",
        "    inp = inp.to(device)\n",
        "    target = target.to(device)\n",
        "    y_pred = model(inp.float())\n",
        "    loss = criterion(y_pred, target.reshape(b, 1).float())\n",
        "    optimizer.zero_grad()\n",
        "    loss.backward()\n",
        "    cur += loss.item()\n",
        "    optimizer.step()\n",
        "  TrainLoss.append(cur)\n",
        "  print(f\"Epoch {epoch} : Loss :{cur}\")\n",
        "\n",
        "\n"
      ],
      "metadata": {
        "colab": {
          "base_uri": "https://localhost:8080/"
        },
        "id": "IBKJNFzQttOd",
        "outputId": "9e0c003d-dd58-4d30-fea8-0e44d010b654"
      },
      "execution_count": 13,
      "outputs": [
        {
          "output_type": "stream",
          "name": "stdout",
          "text": [
            "Epoch 0 : Loss :54.68838492035866\n",
            "Epoch 1 : Loss :44.707598984241486\n",
            "Epoch 2 : Loss :37.95172366499901\n",
            "Epoch 3 : Loss :32.72528935968876\n",
            "Epoch 4 : Loss :28.981670826673508\n",
            "Epoch 5 : Loss :24.963388353586197\n",
            "Epoch 6 : Loss :22.45319575071335\n",
            "Epoch 7 : Loss :20.00520470738411\n",
            "Epoch 8 : Loss :18.342746391892433\n",
            "Epoch 9 : Loss :16.26178991049528\n",
            "Epoch 10 : Loss :15.266057468950748\n",
            "Epoch 11 : Loss :13.498684272170067\n",
            "Epoch 12 : Loss :11.946781493723392\n",
            "Epoch 13 : Loss :10.931184444576502\n",
            "Epoch 14 : Loss :9.759884618222713\n",
            "Epoch 15 : Loss :8.76652081683278\n",
            "Epoch 16 : Loss :7.996077697724104\n",
            "Epoch 17 : Loss :7.1509843692183495\n",
            "Epoch 18 : Loss :6.693329222500324\n",
            "Epoch 19 : Loss :6.015951801091433\n",
            "Epoch 20 : Loss :5.911332409828901\n",
            "Epoch 21 : Loss :5.242197718471289\n",
            "Epoch 22 : Loss :5.1935873329639435\n",
            "Epoch 23 : Loss :4.748227659612894\n",
            "Epoch 24 : Loss :4.318344743922353\n",
            "Epoch 25 : Loss :3.906073112040758\n",
            "Epoch 26 : Loss :4.065614782273769\n",
            "Epoch 27 : Loss :3.8696530535817146\n",
            "Epoch 28 : Loss :3.4461415112018585\n",
            "Epoch 29 : Loss :3.652891958132386\n"
          ]
        }
      ]
    },
    {
      "cell_type": "code",
      "source": [
        "plt.plot(range(1, n_epochs + 1), TrainLoss)\n",
        "plt.xlabel('Epoch')\n",
        "plt.ylabel('Training Loss')\n",
        "plt.title('Training Loss Vs Epoch')"
      ],
      "metadata": {
        "colab": {
          "base_uri": "https://localhost:8080/",
          "height": 489
        },
        "id": "S669fgULYDiJ",
        "outputId": "61c648bd-4942-4c62-e292-672de30db75b"
      },
      "execution_count": 14,
      "outputs": [
        {
          "output_type": "execute_result",
          "data": {
            "text/plain": [
              "Text(0.5, 1.0, 'Training Loss Vs Epoch')"
            ]
          },
          "metadata": {},
          "execution_count": 14
        },
        {
          "output_type": "display_data",
          "data": {
            "text/plain": [
              "<Figure size 640x480 with 1 Axes>"
            ],
            "image/png": "[encoded data removed]"
          },
          "metadata": {}
        }
      ]
    },
    {
      "cell_type": "code",
      "source": [
        "Testset = []\n",
        "Targetset = []\n",
        "\n",
        "df = pd.read_csv(f'Random50_Test_0.tsv', sep='\\t', header=None)\n",
        "for i, r in df.iterrows():\n",
        "\n",
        "\n",
        "  p1 = r[0]\n",
        "  p2 = r[1]\n",
        "  if p1 == 7273 or p2 == 7273:\n",
        "    continue\n",
        "  target = r[2]\n",
        "  feat = ret1dFeat(p1, p2)\n",
        "  Testset.append(feat)\n",
        "  Targetset.append(target)\n",
        "\n",
        "dataset_test = CustDataset(Testset, Targetset)\n",
        "\n",
        "TestLoader = torch.utils.data.DataLoader(dataset_test, batch_size = len(dataset_test))"
      ],
      "metadata": {
        "id": "S9I848yM8Ab9"
      },
      "execution_count": 16,
      "outputs": []
    },
    {
      "cell_type": "code",
      "source": [
        "correct = 0\n",
        "tot = 0\n",
        "\n",
        "with torch.no_grad():\n",
        "  for inp, targetR50 in TestLoader:\n",
        "    b, l = inp.shape\n",
        "    inp = inp.to(device).float()\n",
        "    targetR50 = targetR50.to(device).reshape(-1, 1)\n",
        "    y_predR50 = model(inp)\n",
        "    tot += len(y_predR50)\n",
        "    correct += ((y_predR50 > 0.5).float() == targetR50).float().sum()\n",
        "\n",
        "\n",
        "AccR50 = round(100 * correct.item() / tot, 2)\n",
        "AUCR50 = roc_auc_score(targetR50.cpu().detach().numpy(), y_predR50.cpu().detach().numpy())\n",
        "print(f'Accuracy:  {AccR50} %')\n",
        "print(f'AUC Score: {AUCR50}')"
      ],
      "metadata": {
        "id": "x-VhHhKP8O4l",
        "colab": {
          "base_uri": "https://localhost:8080/"
        },
        "outputId": "8a61eba9-be5f-426d-c90e-1672775f7e2a"
      },
      "execution_count": 19,
      "outputs": [
        {
          "output_type": "stream",
          "name": "stdout",
          "text": [
            "Accuracy:  80.81 %\n",
            "AUC Score: 0.8845026120358516\n"
          ]
        }
      ]
    },
    {
      "cell_type": "code",
      "source": [
        "PreR50 = precision_score(targetR50.cpu().detach().numpy(), (y_predR50 > 0.5).float().cpu().detach().numpy())\n",
        "RecR50 = recall_score(targetR50.cpu().detach().numpy(), (y_predR50 > 0.5).float().cpu().detach().numpy())\n",
        "print(f'Precision :', PreR50)\n",
        "print(f'Recall : ', RecR50)"
      ],
      "metadata": {
        "colab": {
          "base_uri": "https://localhost:8080/"
        },
        "id": "NcsMQ7VGpcIu",
        "outputId": "5cfc5806-f435-477b-e7af-cf7940e681a0"
      },
      "execution_count": 49,
      "outputs": [
        {
          "output_type": "stream",
          "name": "stdout",
          "text": [
            "Precision : 0.8155737704918032\n",
            "Recall :  0.7962548015364916\n"
          ]
        }
      ]
    },
    {
      "cell_type": "markdown",
      "source": [
        "Random 20"
      ],
      "metadata": {
        "id": "MIecgIWMZpxQ"
      }
    },
    {
      "cell_type": "code",
      "source": [
        "Trainset = []\n",
        "Targetset = []\n",
        "\n",
        "df = pd.read_csv(f'Random20_Train_0.tsv', sep='\\t', header=None)\n",
        "for i, r in df.iterrows():\n",
        "\n",
        "\n",
        "  p1 = r[0]\n",
        "  p2 = r[1]\n",
        "  if p1 == 7273 or p2 == 7273:\n",
        "    continue\n",
        "  target = r[2]\n",
        "  feat = ret1dFeat(p1, p2)\n",
        "  Trainset.append(feat)\n",
        "  Targetset.append(target)\n"
      ],
      "metadata": {
        "id": "tpKfNexTlRy4"
      },
      "execution_count": 20,
      "outputs": []
    },
    {
      "cell_type": "code",
      "source": [
        "dataset_train = CustDataset(Trainset, Targetset)\n",
        "\n",
        "TrainLoader = torch.utils.data.DataLoader(dataset_train, batch_size = 1024)"
      ],
      "metadata": {
        "id": "ATogsGgeaBBm"
      },
      "execution_count": 21,
      "outputs": []
    },
    {
      "cell_type": "code",
      "source": [
        "lr = 1e-3\n",
        "n_epochs = 30\n",
        "model = NeuralNet().to(device)\n",
        "criterion = torch.nn.BCELoss()\n",
        "TrainLoss = []\n",
        "optimizer = torch.optim.Adam(model.parameters(), lr = lr)\n",
        "\n",
        "for epoch in range(n_epochs):\n",
        "  cur = 0\n",
        "  for inp, target in TrainLoader:\n",
        "    b, l = inp.shape\n",
        "    inp = inp.to(device)\n",
        "    target = target.to(device)\n",
        "    y_pred = model(inp.float())\n",
        "    loss = criterion(y_pred, target.reshape(b, 1).float())\n",
        "    optimizer.zero_grad()\n",
        "    loss.backward()\n",
        "    cur += loss.item()\n",
        "    optimizer.step()\n",
        "  TrainLoss.append(cur)\n",
        "  print(f\"Epoch {epoch} : Loss :{cur}\")"
      ],
      "metadata": {
        "colab": {
          "base_uri": "https://localhost:8080/"
        },
        "id": "3idS1P73aRw8",
        "outputId": "3dc25c94-95ca-4c9b-a003-ed91c8aab221"
      },
      "execution_count": 22,
      "outputs": [
        {
          "output_type": "stream",
          "name": "stdout",
          "text": [
            "Epoch 0 : Loss :45.84238597750664\n",
            "Epoch 1 : Loss :34.87108311057091\n",
            "Epoch 2 : Loss :29.716278195381165\n",
            "Epoch 3 : Loss :25.392644837498665\n",
            "Epoch 4 : Loss :21.73807044327259\n",
            "Epoch 5 : Loss :19.22205151617527\n",
            "Epoch 6 : Loss :17.710219338536263\n",
            "Epoch 7 : Loss :15.64079312980175\n",
            "Epoch 8 : Loss :13.340113252401352\n",
            "Epoch 9 : Loss :11.77397371828556\n",
            "Epoch 10 : Loss :10.27121526747942\n",
            "Epoch 11 : Loss :9.332372430711985\n",
            "Epoch 12 : Loss :8.133258823305368\n",
            "Epoch 13 : Loss :7.860275626182556\n",
            "Epoch 14 : Loss :6.914961963891983\n",
            "Epoch 15 : Loss :6.334430363029242\n",
            "Epoch 16 : Loss :5.836860246956348\n",
            "Epoch 17 : Loss :5.387344837188721\n",
            "Epoch 18 : Loss :4.579437788575888\n",
            "Epoch 19 : Loss :4.5891928263008595\n",
            "Epoch 20 : Loss :4.002728687599301\n",
            "Epoch 21 : Loss :3.7276213876903057\n",
            "Epoch 22 : Loss :3.4362032022327185\n",
            "Epoch 23 : Loss :3.3757097646594048\n",
            "Epoch 24 : Loss :3.010342890396714\n",
            "Epoch 25 : Loss :2.919509538449347\n",
            "Epoch 26 : Loss :2.6629734514281154\n",
            "Epoch 27 : Loss :2.7931153951212764\n",
            "Epoch 28 : Loss :2.6007971186190844\n",
            "Epoch 29 : Loss :2.3991365414112806\n"
          ]
        }
      ]
    },
    {
      "cell_type": "code",
      "source": [
        "plt.plot(range(1, n_epochs + 1), TrainLoss)\n",
        "plt.xlabel('Epoch')\n",
        "plt.ylabel('Training Loss')\n",
        "plt.title('Training Loss Vs Epoch')"
      ],
      "metadata": {
        "colab": {
          "base_uri": "https://localhost:8080/",
          "height": 489
        },
        "id": "P8KgD3EgadP4",
        "outputId": "727652c1-d0a8-42ad-8e8b-254e6ab867b8"
      },
      "execution_count": 23,
      "outputs": [
        {
          "output_type": "execute_result",
          "data": {
            "text/plain": [
              "Text(0.5, 1.0, 'Training Loss Vs Epoch')"
            ]
          },
          "metadata": {},
          "execution_count": 23
        },
        {
          "output_type": "display_data",
          "data": {
            "text/plain": [
              "<Figure size 640x480 with 1 Axes>"
            ],
            "image/png": "[encoded data removed]"
          },
          "metadata": {}
        }
      ]
    },
    {
      "cell_type": "code",
      "source": [
        "Testset = []\n",
        "Targetset = []\n",
        "\n",
        "df = pd.read_csv(f'Random20_Test1_0.tsv', sep='\\t', header=None)\n",
        "for i, r in df.iterrows():\n",
        "\n",
        "\n",
        "  p1 = r[0]\n",
        "  p2 = r[1]\n",
        "  if p1 == 7273 or p2 == 7273:\n",
        "    continue\n",
        "  target = r[2]\n",
        "  feat = ret1dFeat(p1, p2)\n",
        "  Testset.append(feat)\n",
        "  Targetset.append(target)\n",
        "\n",
        "dataset_test = CustDataset(Testset, Targetset)\n",
        "\n",
        "TestLoader = torch.utils.data.DataLoader(dataset_test, batch_size = len(dataset_test))"
      ],
      "metadata": {
        "id": "uKvvBd4tbNK3"
      },
      "execution_count": 24,
      "outputs": []
    },
    {
      "cell_type": "code",
      "source": [
        "correct = 0\n",
        "tot = 0\n",
        "\n",
        "with torch.no_grad():\n",
        "  for inp, targetR20 in TestLoader:\n",
        "    b, l = inp.shape\n",
        "    inp = inp.to(device).float()\n",
        "    targetR20 = targetR20.to(device).reshape(-1, 1)\n",
        "    y_predR20 = model(inp)\n",
        "    tot += len(y_predR20)\n",
        "    correct += ((y_predR20 > 0.5).float() == targetR20).float().sum()\n",
        "\n",
        "\n",
        "AccR20 = round(100 * correct.item() / tot, 2)\n",
        "AUCR20 = roc_auc_score(targetR20.cpu().detach().numpy(), y_predR20.cpu().detach().numpy())\n",
        "PreR20 = precision_score(targetR20.cpu().detach().numpy(), (y_predR20 > 0.5).float().cpu().detach().numpy())\n",
        "\n",
        "print(f'Accuracy:  {AccR20} %')\n",
        "print(f'AUC Score: {AUCR20}')\n",
        "print(f'Precision :', PreR20)"
      ],
      "metadata": {
        "colab": {
          "base_uri": "https://localhost:8080/"
        },
        "id": "iQEepj8Vapfq",
        "outputId": "7e93d048-2fd7-4917-ddcd-e33708075b88"
      },
      "execution_count": 29,
      "outputs": [
        {
          "output_type": "stream",
          "name": "stdout",
          "text": [
            "Accuracy:  86.53 %\n",
            "AUC Score: 0.864518743230036\n",
            "Precision : 0.3966593354336325\n"
          ]
        }
      ]
    },
    {
      "cell_type": "code",
      "source": [
        "RecR20 = recall_score(targetR20.cpu().detach().numpy(), (y_predR20 > 0.5).float().cpu().detach().numpy())\n",
        "\n",
        "print('Recall: ' ,RecR20)"
      ],
      "metadata": {
        "colab": {
          "base_uri": "https://localhost:8080/"
        },
        "id": "YKea6NE5tOaJ",
        "outputId": "36d707fa-9335-4c77-ae7c-d555c755be2c"
      },
      "execution_count": 50,
      "outputs": [
        {
          "output_type": "stream",
          "name": "stdout",
          "text": [
            "Recall:  0.6676338169084542\n"
          ]
        }
      ]
    },
    {
      "cell_type": "markdown",
      "source": [
        "HeldOut 50"
      ],
      "metadata": {
        "id": "lvHNDnhCdpoQ"
      }
    },
    {
      "cell_type": "code",
      "source": [
        "Trainset = []\n",
        "Targetset = []\n",
        "\n",
        "df = pd.read_csv(f'HeldOut50_Train_0_0.tsv', sep='\\t', header=None)\n",
        "for i, r in df.iterrows():\n",
        "\n",
        "\n",
        "  p1 = r[0]\n",
        "  p2 = r[1]\n",
        "  if p1 == 7273 or p2 == 7273:\n",
        "    continue\n",
        "  target = r[2]\n",
        "  feat = ret1dFeat(p1, p2)\n",
        "  Trainset.append(feat)\n",
        "  Targetset.append(target)\n"
      ],
      "metadata": {
        "id": "E9r-V-aiagxf"
      },
      "execution_count": 33,
      "outputs": []
    },
    {
      "cell_type": "code",
      "source": [
        "dataset_train = CustDataset(Trainset, Targetset)\n",
        "\n",
        "TrainLoader = torch.utils.data.DataLoader(dataset_train, batch_size = 1024)"
      ],
      "metadata": {
        "id": "lKbN6f9Rdur9"
      },
      "execution_count": 34,
      "outputs": []
    },
    {
      "cell_type": "code",
      "source": [
        "lr = 1e-3\n",
        "n_epochs = 30\n",
        "model = NeuralNet().to(device)\n",
        "criterion = torch.nn.BCELoss()\n",
        "TrainLoss = []\n",
        "optimizer = torch.optim.Adam(model.parameters(), lr = lr)\n",
        "\n",
        "for epoch in range(n_epochs):\n",
        "  cur = 0\n",
        "  for inp, target in TrainLoader:\n",
        "    b, l = inp.shape\n",
        "    inp = inp.to(device)\n",
        "    target = target.to(device)\n",
        "    y_pred = model(inp.float())\n",
        "    loss = criterion(y_pred, target.reshape(b, 1).float())\n",
        "    optimizer.zero_grad()\n",
        "    loss.backward()\n",
        "    cur += loss.item()\n",
        "    optimizer.step()\n",
        "  TrainLoss.append(cur)\n",
        "  print(f\"Epoch {epoch} : Loss :{cur}\")"
      ],
      "metadata": {
        "colab": {
          "base_uri": "https://localhost:8080/"
        },
        "id": "OU7Xfgd-dy6j",
        "outputId": "84874bd1-6732-4faa-83b9-60677ca639c8"
      },
      "execution_count": 35,
      "outputs": [
        {
          "output_type": "stream",
          "name": "stdout",
          "text": [
            "Epoch 0 : Loss :53.79869854450226\n",
            "Epoch 1 : Loss :43.19516605138779\n",
            "Epoch 2 : Loss :36.53947800397873\n",
            "Epoch 3 : Loss :31.250512793660164\n",
            "Epoch 4 : Loss :27.370483443140984\n",
            "Epoch 5 : Loss :24.64840768277645\n",
            "Epoch 6 : Loss :22.37177973985672\n",
            "Epoch 7 : Loss :20.007413052022457\n",
            "Epoch 8 : Loss :17.283532805740833\n",
            "Epoch 9 : Loss :15.325734250247478\n",
            "Epoch 10 : Loss :13.724896751344204\n",
            "Epoch 11 : Loss :12.952772699296474\n",
            "Epoch 12 : Loss :12.313343968242407\n",
            "Epoch 13 : Loss :11.168981928378344\n",
            "Epoch 14 : Loss :10.020172201097012\n",
            "Epoch 15 : Loss :8.977982312440872\n",
            "Epoch 16 : Loss :7.866180945187807\n",
            "Epoch 17 : Loss :7.281222485005856\n",
            "Epoch 18 : Loss :6.560278125107288\n",
            "Epoch 19 : Loss :5.949957143515348\n",
            "Epoch 20 : Loss :5.541339501738548\n",
            "Epoch 21 : Loss :5.241722911596298\n",
            "Epoch 22 : Loss :4.653573961928487\n",
            "Epoch 23 : Loss :4.611894056200981\n",
            "Epoch 24 : Loss :4.553922286257148\n",
            "Epoch 25 : Loss :3.969472633674741\n",
            "Epoch 26 : Loss :3.982247220352292\n",
            "Epoch 27 : Loss :3.7293541664257646\n",
            "Epoch 28 : Loss :3.6129278242588043\n",
            "Epoch 29 : Loss :3.46249477006495\n"
          ]
        }
      ]
    },
    {
      "cell_type": "code",
      "source": [
        "plt.plot(range(1, n_epochs + 1), TrainLoss)\n",
        "plt.xlabel('Epoch')\n",
        "plt.ylabel('Training Loss')\n",
        "plt.title('Training Loss Vs Epoch')"
      ],
      "metadata": {
        "colab": {
          "base_uri": "https://localhost:8080/",
          "height": 489
        },
        "id": "1r8qsO5md3BF",
        "outputId": "73be218d-d8f4-4a6d-d624-f1a2c589e791"
      },
      "execution_count": 36,
      "outputs": [
        {
          "output_type": "execute_result",
          "data": {
            "text/plain": [
              "Text(0.5, 1.0, 'Training Loss Vs Epoch')"
            ]
          },
          "metadata": {},
          "execution_count": 36
        },
        {
          "output_type": "display_data",
          "data": {
            "text/plain": [
              "<Figure size 640x480 with 1 Axes>"
            ],
            "image/png": "[encoded data removed]"
          },
          "metadata": {}
        }
      ]
    },
    {
      "cell_type": "code",
      "source": [
        "Testset = []\n",
        "Targetset = []\n",
        "\n",
        "df = pd.read_csv(f'HeldOut50_Test_0_0.tsv', sep='\\t', header=None)\n",
        "for i, r in df.iterrows():\n",
        "\n",
        "\n",
        "  p1 = r[0]\n",
        "  p2 = r[1]\n",
        "  if p1 == 7273 or p2 == 7273:\n",
        "    continue\n",
        "  target = r[2]\n",
        "  feat = ret1dFeat(p1, p2)\n",
        "  Testset.append(feat)\n",
        "  Targetset.append(target)\n",
        "\n",
        "dataset_test = CustDataset(Testset, Targetset)\n",
        "\n",
        "TestLoader = torch.utils.data.DataLoader(dataset_test, batch_size = len(dataset_test))"
      ],
      "metadata": {
        "id": "5Z3HZE5Ad5n9"
      },
      "execution_count": 37,
      "outputs": []
    },
    {
      "cell_type": "code",
      "source": [
        "correct = 0\n",
        "tot = 0\n",
        "\n",
        "with torch.no_grad():\n",
        "  for inp, targetH50 in TestLoader:\n",
        "    b, l = inp.shape\n",
        "    inp = inp.to(device).float()\n",
        "    targetH50 = targetH50.to(device).reshape(-1, 1)\n",
        "    y_predH50 = model(inp)\n",
        "    tot += len(y_predH50)\n",
        "    correct += ((y_predH50 > 0.5).float() == targetH50).float().sum()\n",
        "\n",
        "\n",
        "AccH50 = round(100 * correct.item() / tot, 2)\n",
        "AUCH50 = roc_auc_score(targetH50.cpu().detach().numpy(), y_predH50.cpu().detach().numpy())\n",
        "PreH50 = precision_score(targetH50.cpu().detach().numpy(), (y_predH50 > 0.5).float().cpu().detach().numpy())\n",
        "\n",
        "print(f'Accuracy:  {AccH50} %')\n",
        "print(f'AUC Score: {AUCH50}')\n",
        "print(f'Precision :', PreH50)"
      ],
      "metadata": {
        "colab": {
          "base_uri": "https://localhost:8080/"
        },
        "id": "Uh7A94roeB_W",
        "outputId": "52d6bd51-dee4-46f4-b3a4-f6adc4026054"
      },
      "execution_count": 39,
      "outputs": [
        {
          "output_type": "stream",
          "name": "stdout",
          "text": [
            "Accuracy:  65.97 %\n",
            "AUC Score: 0.7168848997511196\n",
            "Precision : 0.6558126249642959\n"
          ]
        }
      ]
    },
    {
      "cell_type": "code",
      "source": [
        "RecH50 = recall_score(targetH50.cpu().detach().numpy(), (y_predH50 > 0.5).float().cpu().detach().numpy())\n",
        "\n",
        "print('Recall: ',RecH50)"
      ],
      "metadata": {
        "colab": {
          "base_uri": "https://localhost:8080/"
        },
        "id": "xWEwtZUNtgB0",
        "outputId": "0ea6d424-36f8-4f22-e7b9-3e76551492bf"
      },
      "execution_count": 52,
      "outputs": [
        {
          "output_type": "stream",
          "name": "stdout",
          "text": [
            "Recall:  0.6723279648609077\n"
          ]
        }
      ]
    },
    {
      "cell_type": "markdown",
      "source": [
        "HeldOut 20"
      ],
      "metadata": {
        "id": "6Mx6EQkQf8AC"
      }
    },
    {
      "cell_type": "code",
      "source": [
        "Trainset = []\n",
        "Targetset = []\n",
        "\n",
        "df = pd.read_csv(f'HeldOut20_Train_0_0.tsv', sep='\\t', header=None)\n",
        "for i, r in df.iterrows():\n",
        "\n",
        "\n",
        "  p1 = r[0]\n",
        "  p2 = r[1]\n",
        "  if p1 == 7273 or p2 == 7273:\n",
        "    continue\n",
        "  target = r[2]\n",
        "  feat = ret1dFeat(p1, p2)\n",
        "  Trainset.append(feat)\n",
        "  Targetset.append(target)\n"
      ],
      "metadata": {
        "id": "GfPfLQG-eCdi"
      },
      "execution_count": 40,
      "outputs": []
    },
    {
      "cell_type": "code",
      "source": [
        "dataset_train = CustDataset(Trainset, Targetset)\n",
        "\n",
        "TrainLoader = torch.utils.data.DataLoader(dataset_train, batch_size = 1024)"
      ],
      "metadata": {
        "id": "EVLBwiTagM_L"
      },
      "execution_count": 41,
      "outputs": []
    },
    {
      "cell_type": "code",
      "source": [
        "lr = 1e-3\n",
        "n_epochs = 30\n",
        "model = NeuralNet().to(device)\n",
        "criterion = torch.nn.BCELoss()\n",
        "TrainLoss = []\n",
        "optimizer = torch.optim.Adam(model.parameters(), lr = lr)\n",
        "\n",
        "for epoch in range(n_epochs):\n",
        "  cur = 0\n",
        "  for inp, target in TrainLoader:\n",
        "    b, l = inp.shape\n",
        "    inp = inp.to(device)\n",
        "    target = target.to(device)\n",
        "    y_pred = model(inp.float())\n",
        "    loss = criterion(y_pred, target.reshape(b, 1).float())\n",
        "    optimizer.zero_grad()\n",
        "    loss.backward()\n",
        "    cur += loss.item()\n",
        "    optimizer.step()\n",
        "  TrainLoss.append(cur)\n",
        "  print(f\"Epoch {epoch} : Loss :{cur}\")"
      ],
      "metadata": {
        "colab": {
          "base_uri": "https://localhost:8080/"
        },
        "id": "VsnsxNcTgNOo",
        "outputId": "c7543e61-4cc0-4b2b-f81e-f172c46b083c"
      },
      "execution_count": 42,
      "outputs": [
        {
          "output_type": "stream",
          "name": "stdout",
          "text": [
            "Epoch 0 : Loss :50.09896272420883\n",
            "Epoch 1 : Loss :35.51962798833847\n",
            "Epoch 2 : Loss :30.161444783210754\n",
            "Epoch 3 : Loss :25.72930681705475\n",
            "Epoch 4 : Loss :22.17910870909691\n",
            "Epoch 5 : Loss :19.38991618156433\n",
            "Epoch 6 : Loss :17.581504814326763\n",
            "Epoch 7 : Loss :15.812859065830708\n",
            "Epoch 8 : Loss :13.789314679801464\n",
            "Epoch 9 : Loss :12.129962474107742\n",
            "Epoch 10 : Loss :10.921644568443298\n",
            "Epoch 11 : Loss :10.126243203878403\n",
            "Epoch 12 : Loss :9.456204406917095\n",
            "Epoch 13 : Loss :8.082943730056286\n",
            "Epoch 14 : Loss :6.748281501233578\n",
            "Epoch 15 : Loss :5.611019529402256\n",
            "Epoch 16 : Loss :5.480467211455107\n",
            "Epoch 17 : Loss :4.946589294821024\n",
            "Epoch 18 : Loss :4.726648949086666\n",
            "Epoch 19 : Loss :4.405144983902574\n",
            "Epoch 20 : Loss :3.8926629573106766\n",
            "Epoch 21 : Loss :3.7921724393963814\n",
            "Epoch 22 : Loss :3.302434764802456\n",
            "Epoch 23 : Loss :3.338827235624194\n",
            "Epoch 24 : Loss :3.3752306532114744\n",
            "Epoch 25 : Loss :3.224810514599085\n",
            "Epoch 26 : Loss :2.8808749467134476\n",
            "Epoch 27 : Loss :2.6499107209965587\n",
            "Epoch 28 : Loss :2.444004918448627\n",
            "Epoch 29 : Loss :2.5430576503276825\n"
          ]
        }
      ]
    },
    {
      "cell_type": "code",
      "source": [
        "plt.plot(range(1, n_epochs + 1), TrainLoss)\n",
        "plt.xlabel('Epoch')\n",
        "plt.ylabel('Training Loss')\n",
        "plt.title('Training Loss Vs Epoch')"
      ],
      "metadata": {
        "colab": {
          "base_uri": "https://localhost:8080/",
          "height": 489
        },
        "id": "thhCDOB7gNSu",
        "outputId": "05a317cd-e54f-4164-ac81-a76424c07143"
      },
      "execution_count": 43,
      "outputs": [
        {
          "output_type": "execute_result",
          "data": {
            "text/plain": [
              "Text(0.5, 1.0, 'Training Loss Vs Epoch')"
            ]
          },
          "metadata": {},
          "execution_count": 43
        },
        {
          "output_type": "display_data",
          "data": {
            "text/plain": [
              "<Figure size 640x480 with 1 Axes>"
            ],
            "image/png": "[encoded data removed]"
          },
          "metadata": {}
        }
      ]
    },
    {
      "cell_type": "code",
      "source": [
        "Testset = []\n",
        "Targetset = []\n",
        "\n",
        "df = pd.read_csv(f'HeldOut20_Test1_0_0.tsv', sep='\\t', header=None)\n",
        "for i, r in df.iterrows():\n",
        "\n",
        "\n",
        "  p1 = r[0]\n",
        "  p2 = r[1]\n",
        "  if p1 == 7273 or p2 == 7273:\n",
        "    continue\n",
        "  target = r[2]\n",
        "  feat = ret1dFeat(p1, p2)\n",
        "  Testset.append(feat)\n",
        "  Targetset.append(target)\n",
        "\n",
        "dataset_test = CustDataset(Testset, Targetset)\n",
        "\n",
        "TestLoader = torch.utils.data.DataLoader(dataset_test, batch_size = len(dataset_test))"
      ],
      "metadata": {
        "id": "jVmcv937a6eq"
      },
      "execution_count": 44,
      "outputs": []
    },
    {
      "cell_type": "code",
      "source": [
        "correct = 0\n",
        "tot = 0\n",
        "\n",
        "with torch.no_grad():\n",
        "  for inp, targetH20 in TestLoader:\n",
        "    b, l = inp.shape\n",
        "    inp = inp.to(device).float()\n",
        "    targetH20 = targetH20.to(device).reshape(-1, 1)\n",
        "    y_predH20 = model(inp)\n",
        "    tot += len(y_predH20)\n",
        "    correct += ((y_predH20 > 0.5).float() == targetH20).float().sum()\n",
        "\n",
        "\n",
        "AccH20 = round(100 * correct.item() / tot, 2)\n",
        "AUCH20 = roc_auc_score(targetH20.cpu().detach().numpy(), y_predH20.cpu().detach().numpy())\n",
        "PreH20 = precision_score(targetH20.cpu().detach().numpy(), (y_predH20 > 0.5).float().cpu().detach().numpy())\n",
        "\n",
        "print(f'Accuracy:  {AccH20} %')\n",
        "print(f'AUC Score: {AUCH20}')\n",
        "print(f'Precision :', PreH20)"
      ],
      "metadata": {
        "colab": {
          "base_uri": "https://localhost:8080/"
        },
        "id": "6nhRehLtgxF2",
        "outputId": "7cc2bb75-fc0e-49f9-cf3b-85453a92f6c8"
      },
      "execution_count": 46,
      "outputs": [
        {
          "output_type": "stream",
          "name": "stdout",
          "text": [
            "Accuracy:  81.22 %\n",
            "AUC Score: 0.6949836425820212\n",
            "Precision : 0.2382116660845267\n"
          ]
        }
      ]
    },
    {
      "cell_type": "code",
      "source": [
        "RecH20 = recall_score(targetH20.cpu().detach().numpy(), (y_predH20 > 0.5).float().cpu().detach().numpy())\n",
        "\n",
        "print(f'Recall: {RecH20}')"
      ],
      "metadata": {
        "colab": {
          "base_uri": "https://localhost:8080/"
        },
        "id": "thzLTPcLgxI-",
        "outputId": "1871dbdd-24db-4d18-8058-b5cc06153f32"
      },
      "execution_count": 53,
      "outputs": [
        {
          "output_type": "stream",
          "name": "stdout",
          "text": [
            "Recall: 0.3994143484626647\n"
          ]
        }
      ]
    },
    {
      "cell_type": "code",
      "source": [
        "data_cat = ['Random 50', 'Random 20' ,'HeldOut 50', 'HeldOut 20']\n",
        "y = [AccR50, AccR20, AccH50, AccH20]\n",
        "fig, ax = plt.subplots()\n",
        "x = np.arange(len(data_cat))\n",
        "width = 0.7  # the width of the bars\n",
        "for i, j in enumerate(y):\n",
        "    rects = ax.bar(x[i], j, width, label=data_cat[i])\n",
        "    ax.bar_label(rects, padding=0)\n",
        "\n",
        "# Add some text for labels, title and custom x-axis tick labels, etc.\n",
        "ax.set_xticks(x, data_cat)\n",
        "ax.set_ylabel('Acccuracy %')\n",
        "ax.set_title('Accuracy')\n",
        "plt.show()"
      ],
      "metadata": {
        "colab": {
          "base_uri": "https://localhost:8080/",
          "height": 452
        },
        "id": "mfoL2hs_gxML",
        "outputId": "ab982d14-44ce-493d-c21c-290ce0814cc2"
      },
      "execution_count": 67,
      "outputs": [
        {
          "output_type": "display_data",
          "data": {
            "text/plain": [
              "<Figure size 640x480 with 1 Axes>"
            ],
            "image/png": "[encoded data removed]"
          },
          "metadata": {}
        }
      ]
    },
    {
      "cell_type": "code",
      "source": [
        "data_cat = ['Random 50', 'Random 20' ,'HeldOut 50', 'HeldOut 20']\n",
        "y = [AUCR50, AUCR20, AUCH50, AUCH20]\n",
        "y = [round(100 * x, 2) for x in y]\n",
        "fig, ax = plt.subplots()\n",
        "x = np.arange(len(data_cat))\n",
        "width = 0.7  # the width of the bars\n",
        "for i, j in enumerate(y):\n",
        "    rects = ax.bar(x[i], j, width, label=data_cat[i])\n",
        "    ax.bar_label(rects, padding=0)\n",
        "\n",
        "# Add some text for labels, title and custom x-axis tick labels, etc.\n",
        "ax.set_xticks(x, data_cat)\n",
        "ax.set_ylabel('AUC Score %')\n",
        "ax.set_title('AUC')\n",
        "plt.show()"
      ],
      "metadata": {
        "colab": {
          "base_uri": "https://localhost:8080/",
          "height": 452
        },
        "id": "1PMk66vRgxPL",
        "outputId": "027e6286-8bf3-490d-e24f-bed2d100a002"
      },
      "execution_count": 68,
      "outputs": [
        {
          "output_type": "display_data",
          "data": {
            "text/plain": [
              "<Figure size 640x480 with 1 Axes>"
            ],
            "image/png": "[encoded data removed]"
          },
          "metadata": {}
        }
      ]
    },
    {
      "cell_type": "code",
      "source": [
        "data_cat = ['Random 50', 'Random 20' ,'HeldOut 50', 'HeldOut 20']\n",
        "y = [PreR50, PreR20, PreH50, PreH20]\n",
        "y = [round(100 * x, 2) for x in y]\n",
        "fig, ax = plt.subplots()\n",
        "x = np.arange(len(data_cat))\n",
        "width = 0.7  # the width of the bars\n",
        "for i, j in enumerate(y):\n",
        "    rects = ax.bar(x[i], j, width, label=data_cat[i])\n",
        "    ax.bar_label(rects, padding=0)\n",
        "\n",
        "# Add some text for labels, title and custom x-axis tick labels, etc.\n",
        "ax.set_xticks(x, data_cat)\n",
        "ax.set_ylabel('Precision %')\n",
        "ax.set_title('Precision')\n",
        "plt.show()"
      ],
      "metadata": {
        "colab": {
          "base_uri": "https://localhost:8080/",
          "height": 452
        },
        "id": "HZA4ZKQRxuQm",
        "outputId": "bdfe6eb2-0c04-45fc-ba39-5f871f62673a"
      },
      "execution_count": 69,
      "outputs": [
        {
          "output_type": "display_data",
          "data": {
            "text/plain": [
              "<Figure size 640x480 with 1 Axes>"
            ],
            "image/png": "[encoded data removed]"
          },
          "metadata": {}
        }
      ]
    },
    {
      "cell_type": "code",
      "source": [
        "data_cat = ['Random 50', 'Random 20' ,'HeldOut 50', 'HeldOut 20']\n",
        "y = [RecR50, RecR20, RecH50, RecH20]\n",
        "y = [round(100 * x, 2) for x in y]\n",
        "fig, ax = plt.subplots()\n",
        "x = np.arange(len(data_cat))\n",
        "width = 0.7  # the width of the bars\n",
        "for i, j in enumerate(y):\n",
        "    rects = ax.bar(x[i], j, width, label=data_cat[i])\n",
        "    ax.bar_label(rects, padding=0)\n",
        "\n",
        "# Add some text for labels, title and custom x-axis tick labels, etc.\n",
        "ax.set_xticks(x, data_cat)\n",
        "ax.set_ylabel('Recall %')\n",
        "ax.set_title('Recall')\n",
        "plt.show()"
      ],
      "metadata": {
        "colab": {
          "base_uri": "https://localhost:8080/",
          "height": 452
        },
        "id": "6thn-u0myBoG",
        "outputId": "2650f737-80a6-4f80-cc58-0bafbde6c084"
      },
      "execution_count": 70,
      "outputs": [
        {
          "output_type": "display_data",
          "data": {
            "text/plain": [
              "<Figure size 640x480 with 1 Axes>"
            ],
            "image/png": "[encoded data removed]"
          },
          "metadata": {}
        }
      ]
    },
    {
      "cell_type": "code",
      "source": [],
      "metadata": {
        "id": "h3m_ym81yP3N"
      },
      "execution_count": null,
      "outputs": []
    }
  ],
  "metadata": {
    "colab": {
      "provenance": [],
      "gpuType": "T4"
    },
    "kernelspec": {
      "display_name": "Python 3",
      "name": "python3"
    },
    "language_info": {
      "name": "python"
    },
    "accelerator": "GPU"
  },
  "nbformat": 4,
  "nbformat_minor": 0
}